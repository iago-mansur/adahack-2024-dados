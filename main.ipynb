{
 "cells": [
  {
   "attachments": {},
   "cell_type": "markdown",
   "metadata": {},
   "source": [
<<<<<<< HEAD
    "Importação das bibliotecas"
=======
    "## Importação das bibliotecas"
>>>>>>> d21da0d (inicial)
   ]
  },
  {
   "cell_type": "code",
<<<<<<< HEAD
   "execution_count": 9,
=======
   "execution_count": 2,
>>>>>>> d21da0d (inicial)
   "metadata": {},
   "outputs": [],
   "source": [
    "import pandas as pd\n",
<<<<<<< HEAD
    "import matplotlib.pyplot as plt\n",
=======
    "#import matplotlib.pyplot as plt\n",
>>>>>>> d21da0d (inicial)
    "import requests\n",
    "import csv\n",
    "from io import StringIO\n",
    "import ftfy"
   ]
  },
  {
   "attachments": {},
   "cell_type": "markdown",
   "metadata": {},
   "source": [
<<<<<<< HEAD
    "Importação dos dados"
=======
    "## Importação dos dados"
>>>>>>> d21da0d (inicial)
   ]
  },
  {
   "cell_type": "code",
<<<<<<< HEAD
   "execution_count": 12,
=======
   "execution_count": 3,
>>>>>>> d21da0d (inicial)
   "metadata": {},
   "outputs": [],
   "source": [
    "url = requests.get('https://raw.githubusercontent.com/Ada-Empregabilidade/adahack-2024-dados/main/base_dados/base_de_dados.csv').content.decode('utf-8')\n",
    "linhas = url.split('\\n')\n",
    "lista_linhas = [ftfy.fix_text(linha) for linha in linhas]\n",
    "data = StringIO('\\n'.join(lista_linhas))\n",
    "dataset = pd.read_csv(data)"
   ]
  },
  {
   "attachments": {},
   "cell_type": "markdown",
   "metadata": {},
   "source": [
<<<<<<< HEAD
    "Checagem dos dados importados"
=======
    "### Checagem dos dados importados"
>>>>>>> d21da0d (inicial)
   ]
  },
  {
   "cell_type": "code",
<<<<<<< HEAD
   "execution_count": 16,
=======
   "execution_count": 4,
>>>>>>> d21da0d (inicial)
   "metadata": {},
   "outputs": [
    {
     "data": {
      "text/html": [
       "<div>\n",
       "<style scoped>\n",
       "    .dataframe tbody tr th:only-of-type {\n",
       "        vertical-align: middle;\n",
       "    }\n",
       "\n",
       "    .dataframe tbody tr th {\n",
       "        vertical-align: top;\n",
       "    }\n",
       "\n",
       "    .dataframe thead th {\n",
       "        text-align: right;\n",
       "    }\n",
       "</style>\n",
       "<table border=\"1\" class=\"dataframe\">\n",
       "  <thead>\n",
       "    <tr style=\"text-align: right;\">\n",
       "      <th></th>\n",
<<<<<<< HEAD
=======
       "      <th>id</th>\n",
       "      <th>id.1</th>\n",
       "      <th>Nome</th>\n",
>>>>>>> d21da0d (inicial)
       "      <th>Genero</th>\n",
       "      <th>Idade</th>\n",
       "      <th>Raça</th>\n",
       "      <th>Endereço</th>\n",
       "      <th>Formação</th>\n",
       "      <th>Estado</th>\n",
       "      <th>Tempo de casa</th>\n",
       "      <th>Departamento</th>\n",
       "      <th>Senioridade</th>\n",
       "    </tr>\n",
       "  </thead>\n",
       "  <tbody>\n",
       "    <tr>\n",
       "      <th>0</th>\n",
<<<<<<< HEAD
=======
       "      <td>1</td>\n",
       "      <td>1</td>\n",
       "      <td>Eleonora Arilda Penedo Gomes de Padilha</td>\n",
>>>>>>> d21da0d (inicial)
       "      <td>Fem</td>\n",
       "      <td>34.0</td>\n",
       "      <td>pardo</td>\n",
       "      <td>9155 Harold Oval\\nSellersside, FL 21337</td>\n",
       "      <td>Ensino Médio</td>\n",
       "      <td>Santa Catarina</td>\n",
       "      <td>12.0</td>\n",
       "      <td>Compras</td>\n",
       "      <td>Analista Pleno</td>\n",
       "    </tr>\n",
       "    <tr>\n",
       "      <th>1</th>\n",
<<<<<<< HEAD
=======
       "      <td>2</td>\n",
       "      <td>2</td>\n",
       "      <td>Elisângela Gabrielle de Osório</td>\n",
>>>>>>> d21da0d (inicial)
       "      <td>Fem</td>\n",
       "      <td>26.0</td>\n",
       "      <td>pardo</td>\n",
       "      <td>941 Martin Manor\\nLake Isaiahtown, FM 43797</td>\n",
       "      <td>Ensino Médio</td>\n",
       "      <td>Pará</td>\n",
       "      <td>6.0</td>\n",
       "      <td>Contabilidade</td>\n",
       "      <td>Analista Júnior</td>\n",
       "    </tr>\n",
       "    <tr>\n",
       "      <th>2</th>\n",
<<<<<<< HEAD
=======
       "      <td>3</td>\n",
       "      <td>3</td>\n",
       "      <td>José Túlio de Cabral</td>\n",
>>>>>>> d21da0d (inicial)
       "      <td>Masc</td>\n",
       "      <td>35.0</td>\n",
       "      <td>pardo</td>\n",
       "      <td>110 Davis Ridges\\nMejiaville, LA 17095</td>\n",
       "      <td>Ensino Médio</td>\n",
       "      <td>Santa Catarina</td>\n",
       "      <td>5.0</td>\n",
       "      <td>Vendas</td>\n",
       "      <td>Analista Pleno</td>\n",
       "    </tr>\n",
       "    <tr>\n",
       "      <th>3</th>\n",
<<<<<<< HEAD
=======
       "      <td>4</td>\n",
       "      <td>4</td>\n",
       "      <td>Ezequiel Edivaldo de Medeiros Sonao</td>\n",
>>>>>>> d21da0d (inicial)
       "      <td>Masc</td>\n",
       "      <td>24.0</td>\n",
       "      <td>pardo</td>\n",
       "      <td>48010 Wilson Glen Apt. 749\\nSmithborough, NV 0...</td>\n",
       "      <td>Ensino Superior</td>\n",
       "      <td>Tocantins</td>\n",
       "      <td>4.0</td>\n",
       "      <td>Administrativo</td>\n",
       "      <td>Gerente</td>\n",
       "    </tr>\n",
       "    <tr>\n",
       "      <th>4</th>\n",
<<<<<<< HEAD
=======
       "      <td>5</td>\n",
       "      <td>5</td>\n",
       "      <td>Fagner Josiel dos Santos</td>\n",
>>>>>>> d21da0d (inicial)
       "      <td>Masc</td>\n",
       "      <td>21.0</td>\n",
       "      <td>pardo</td>\n",
       "      <td>8666 Ramos Ports Apt. 070\\nSandraport, MN 33570</td>\n",
       "      <td>Ensino Superior</td>\n",
       "      <td>Ceará</td>\n",
       "      <td>5.0</td>\n",
       "      <td>Recursos Humanos</td>\n",
       "      <td>Analista Júnior</td>\n",
       "    </tr>\n",
       "    <tr>\n",
       "      <th>5</th>\n",
<<<<<<< HEAD
=======
       "      <td>6</td>\n",
       "      <td>6</td>\n",
       "      <td>Magali Luzimara da Silva</td>\n",
>>>>>>> d21da0d (inicial)
       "      <td>Fem</td>\n",
       "      <td>49.0</td>\n",
       "      <td>pardo</td>\n",
       "      <td>073 Padilla Dam\\nPort Joshualand, MA 65043</td>\n",
       "      <td>Ensino Superior</td>\n",
       "      <td>São Paulo</td>\n",
       "      <td>3.0</td>\n",
       "      <td>Contabilidade</td>\n",
       "      <td>Analista Pleno</td>\n",
       "    </tr>\n",
       "    <tr>\n",
       "      <th>6</th>\n",
<<<<<<< HEAD
=======
       "      <td>7</td>\n",
       "      <td>7</td>\n",
       "      <td>Victor Plínio Shufrouze</td>\n",
>>>>>>> d21da0d (inicial)
       "      <td>Masc</td>\n",
       "      <td>29.0</td>\n",
       "      <td>pardo</td>\n",
       "      <td>112 Rose Corners\\nStanleyberg, IA 13588</td>\n",
       "      <td>Pós graduação</td>\n",
       "      <td>Ceará</td>\n",
       "      <td>9.0</td>\n",
       "      <td>Compras</td>\n",
       "      <td>Analista Sênior</td>\n",
       "    </tr>\n",
       "    <tr>\n",
       "      <th>7</th>\n",
<<<<<<< HEAD
=======
       "      <td>8</td>\n",
       "      <td>8</td>\n",
       "      <td>Laércio Rossi</td>\n",
>>>>>>> d21da0d (inicial)
       "      <td>Masc</td>\n",
       "      <td>35.0</td>\n",
       "      <td>pardo</td>\n",
       "      <td>508 Sean Road Apt. 754\\nWest Thomaschester, AL...</td>\n",
       "      <td>Ensino Superior</td>\n",
       "      <td>Rondônia</td>\n",
       "      <td>8.0</td>\n",
       "      <td>Operações</td>\n",
       "      <td>Analista Júnior</td>\n",
       "    </tr>\n",
       "    <tr>\n",
       "      <th>8</th>\n",
<<<<<<< HEAD
=======
       "      <td>9</td>\n",
       "      <td>9</td>\n",
       "      <td>Francisco Ângelo de Toledo Seixas</td>\n",
>>>>>>> d21da0d (inicial)
       "      <td>Masc</td>\n",
       "      <td>40.0</td>\n",
       "      <td>pardo</td>\n",
       "      <td>9762 Goodwin Plain Apt. 560\\nSchroedershire, P...</td>\n",
       "      <td>Mestrado</td>\n",
       "      <td>Amapá</td>\n",
       "      <td>1.0</td>\n",
       "      <td>Administrativo</td>\n",
       "      <td>Analista Pleno</td>\n",
       "    </tr>\n",
       "    <tr>\n",
       "      <th>9</th>\n",
<<<<<<< HEAD
=======
       "      <td>10</td>\n",
       "      <td>10</td>\n",
       "      <td>Fabrício Rangel de Gonçalves dos Santos</td>\n",
>>>>>>> d21da0d (inicial)
       "      <td>Masc</td>\n",
       "      <td>33.0</td>\n",
       "      <td>pardo</td>\n",
       "      <td>4979 Dana Station Apt. 126\\nMichellefurt, HI 2...</td>\n",
       "      <td>Ensino Superior</td>\n",
       "      <td>Minas Gerais</td>\n",
       "      <td>3.0</td>\n",
       "      <td>Desenvolvimento de Produtos</td>\n",
       "      <td>Analista Pleno</td>\n",
       "    </tr>\n",
       "  </tbody>\n",
       "</table>\n",
       "</div>"
      ],
      "text/plain": [
<<<<<<< HEAD
       "  Genero  Idade   Raça                                           Endereço  \\\n",
       "0    Fem   34.0  pardo            9155 Harold Oval\\nSellersside, FL 21337   \n",
       "1    Fem   26.0  pardo        941 Martin Manor\\nLake Isaiahtown, FM 43797   \n",
       "2   Masc   35.0  pardo             110 Davis Ridges\\nMejiaville, LA 17095   \n",
       "3   Masc   24.0  pardo  48010 Wilson Glen Apt. 749\\nSmithborough, NV 0...   \n",
       "4   Masc   21.0  pardo    8666 Ramos Ports Apt. 070\\nSandraport, MN 33570   \n",
       "5    Fem   49.0  pardo         073 Padilla Dam\\nPort Joshualand, MA 65043   \n",
       "6   Masc   29.0  pardo            112 Rose Corners\\nStanleyberg, IA 13588   \n",
       "7   Masc   35.0  pardo  508 Sean Road Apt. 754\\nWest Thomaschester, AL...   \n",
       "8   Masc   40.0  pardo  9762 Goodwin Plain Apt. 560\\nSchroedershire, P...   \n",
       "9   Masc   33.0  pardo  4979 Dana Station Apt. 126\\nMichellefurt, HI 2...   \n",
       "\n",
       "          Formação          Estado  Tempo de casa  \\\n",
       "0     Ensino Médio  Santa Catarina           12.0   \n",
       "1     Ensino Médio            Pará            6.0   \n",
       "2     Ensino Médio  Santa Catarina            5.0   \n",
       "3  Ensino Superior       Tocantins            4.0   \n",
       "4  Ensino Superior           Ceará            5.0   \n",
       "5  Ensino Superior       São Paulo            3.0   \n",
       "6    Pós graduação           Ceará            9.0   \n",
       "7  Ensino Superior        Rondônia            8.0   \n",
       "8         Mestrado           Amapá            1.0   \n",
       "9  Ensino Superior    Minas Gerais            3.0   \n",
       "\n",
       "                  Departamento      Senioridade  \n",
       "0                      Compras   Analista Pleno  \n",
       "1                Contabilidade  Analista Júnior  \n",
       "2                       Vendas   Analista Pleno  \n",
       "3               Administrativo          Gerente  \n",
       "4             Recursos Humanos  Analista Júnior  \n",
       "5                Contabilidade   Analista Pleno  \n",
       "6                      Compras  Analista Sênior  \n",
       "7                    Operações  Analista Júnior  \n",
       "8               Administrativo   Analista Pleno  \n",
       "9  Desenvolvimento de Produtos   Analista Pleno  "
      ]
     },
     "execution_count": 16,
=======
       "   id  id.1                                     Nome Genero  Idade   Raça  \\\n",
       "0   1     1  Eleonora Arilda Penedo Gomes de Padilha    Fem   34.0  pardo   \n",
       "1   2     2           Elisângela Gabrielle de Osório    Fem   26.0  pardo   \n",
       "2   3     3                     José Túlio de Cabral   Masc   35.0  pardo   \n",
       "3   4     4      Ezequiel Edivaldo de Medeiros Sonao   Masc   24.0  pardo   \n",
       "4   5     5                 Fagner Josiel dos Santos   Masc   21.0  pardo   \n",
       "5   6     6                 Magali Luzimara da Silva    Fem   49.0  pardo   \n",
       "6   7     7                  Victor Plínio Shufrouze   Masc   29.0  pardo   \n",
       "7   8     8                            Laércio Rossi   Masc   35.0  pardo   \n",
       "8   9     9        Francisco Ângelo de Toledo Seixas   Masc   40.0  pardo   \n",
       "9  10    10  Fabrício Rangel de Gonçalves dos Santos   Masc   33.0  pardo   \n",
       "\n",
       "                                            Endereço         Formação  \\\n",
       "0            9155 Harold Oval\\nSellersside, FL 21337     Ensino Médio   \n",
       "1        941 Martin Manor\\nLake Isaiahtown, FM 43797     Ensino Médio   \n",
       "2             110 Davis Ridges\\nMejiaville, LA 17095     Ensino Médio   \n",
       "3  48010 Wilson Glen Apt. 749\\nSmithborough, NV 0...  Ensino Superior   \n",
       "4    8666 Ramos Ports Apt. 070\\nSandraport, MN 33570  Ensino Superior   \n",
       "5         073 Padilla Dam\\nPort Joshualand, MA 65043  Ensino Superior   \n",
       "6            112 Rose Corners\\nStanleyberg, IA 13588    Pós graduação   \n",
       "7  508 Sean Road Apt. 754\\nWest Thomaschester, AL...  Ensino Superior   \n",
       "8  9762 Goodwin Plain Apt. 560\\nSchroedershire, P...         Mestrado   \n",
       "9  4979 Dana Station Apt. 126\\nMichellefurt, HI 2...  Ensino Superior   \n",
       "\n",
       "           Estado  Tempo de casa                 Departamento      Senioridade  \n",
       "0  Santa Catarina           12.0                      Compras   Analista Pleno  \n",
       "1            Pará            6.0                Contabilidade  Analista Júnior  \n",
       "2  Santa Catarina            5.0                       Vendas   Analista Pleno  \n",
       "3       Tocantins            4.0               Administrativo          Gerente  \n",
       "4           Ceará            5.0             Recursos Humanos  Analista Júnior  \n",
       "5       São Paulo            3.0                Contabilidade   Analista Pleno  \n",
       "6           Ceará            9.0                      Compras  Analista Sênior  \n",
       "7        Rondônia            8.0                    Operações  Analista Júnior  \n",
       "8           Amapá            1.0               Administrativo   Analista Pleno  \n",
       "9    Minas Gerais            3.0  Desenvolvimento de Produtos   Analista Pleno  "
      ]
     },
     "execution_count": 4,
>>>>>>> d21da0d (inicial)
     "metadata": {},
     "output_type": "execute_result"
    }
   ],
   "source": [
    "dataset.head(10)"
   ]
  },
  {
   "cell_type": "code",
   "execution_count": 4,
   "metadata": {},
   "outputs": [
    {
     "data": {
      "text/plain": [
       "(10000, 12)"
      ]
     },
     "execution_count": 4,
     "metadata": {},
     "output_type": "execute_result"
    }
   ],
   "source": [
    "dataset.shape"
   ]
  },
  {
   "cell_type": "code",
   "execution_count": 14,
   "metadata": {},
   "outputs": [
    {
     "data": {
      "text/plain": [
       "Index(['id', 'id.1', 'Nome', 'Genero', 'Idade', 'Raça', 'Endereço', 'Formação',\n",
       "       'Estado', 'Tempo de casa', 'Departamento', 'Senioridade'],\n",
       "      dtype='object')"
      ]
     },
     "execution_count": 14,
     "metadata": {},
     "output_type": "execute_result"
    }
   ],
   "source": [
    "# Listar colunas\n",
    "dataset.columns"
   ]
  },
  {
   "cell_type": "code",
   "execution_count": 17,
   "metadata": {},
   "outputs": [
    {
     "data": {
      "text/html": [
       "<div>\n",
       "<style scoped>\n",
       "    .dataframe tbody tr th:only-of-type {\n",
       "        vertical-align: middle;\n",
       "    }\n",
       "\n",
       "    .dataframe tbody tr th {\n",
       "        vertical-align: top;\n",
       "    }\n",
       "\n",
       "    .dataframe thead th {\n",
       "        text-align: right;\n",
       "    }\n",
       "</style>\n",
       "<table border=\"1\" class=\"dataframe\">\n",
       "  <thead>\n",
       "    <tr style=\"text-align: right;\">\n",
       "      <th></th>\n",
       "      <th>Idade</th>\n",
       "      <th>Tempo de casa</th>\n",
       "    </tr>\n",
       "  </thead>\n",
       "  <tbody>\n",
       "    <tr>\n",
       "      <th>count</th>\n",
       "      <td>9944.000000</td>\n",
       "      <td>9800.000000</td>\n",
       "    </tr>\n",
       "    <tr>\n",
       "      <th>mean</th>\n",
       "      <td>30.827836</td>\n",
       "      <td>5.490510</td>\n",
       "    </tr>\n",
       "    <tr>\n",
       "      <th>std</th>\n",
       "      <td>8.738915</td>\n",
       "      <td>2.963759</td>\n",
       "    </tr>\n",
       "    <tr>\n",
       "      <th>min</th>\n",
       "      <td>5.000000</td>\n",
       "      <td>-6.000000</td>\n",
       "    </tr>\n",
       "    <tr>\n",
       "      <th>25%</th>\n",
       "      <td>24.000000</td>\n",
       "      <td>3.000000</td>\n",
       "    </tr>\n",
       "    <tr>\n",
       "      <th>50%</th>\n",
       "      <td>30.000000</td>\n",
       "      <td>5.000000</td>\n",
       "    </tr>\n",
       "    <tr>\n",
       "      <th>75%</th>\n",
       "      <td>37.000000</td>\n",
       "      <td>8.000000</td>\n",
       "    </tr>\n",
       "    <tr>\n",
       "      <th>max</th>\n",
       "      <td>74.000000</td>\n",
       "      <td>17.000000</td>\n",
       "    </tr>\n",
       "  </tbody>\n",
       "</table>\n",
       "</div>"
      ],
      "text/plain": [
       "             Idade  Tempo de casa\n",
       "count  9944.000000    9800.000000\n",
       "mean     30.827836       5.490510\n",
       "std       8.738915       2.963759\n",
       "min       5.000000      -6.000000\n",
       "25%      24.000000       3.000000\n",
       "50%      30.000000       5.000000\n",
       "75%      37.000000       8.000000\n",
       "max      74.000000      17.000000"
      ]
     },
     "execution_count": 17,
     "metadata": {},
     "output_type": "execute_result"
    }
   ],
   "source": [
    "numeric_columns = dataset.select_dtypes(include='number')\n",
    "numeric_columns.describe()"
   ]
  },
  {
   "cell_type": "code",
   "execution_count": 18,
   "metadata": {},
   "outputs": [
    {
     "data": {
      "text/html": [
       "<div>\n",
       "<style scoped>\n",
       "    .dataframe tbody tr th:only-of-type {\n",
       "        vertical-align: middle;\n",
       "    }\n",
       "\n",
       "    .dataframe tbody tr th {\n",
       "        vertical-align: top;\n",
       "    }\n",
       "\n",
       "    .dataframe thead th {\n",
       "        text-align: right;\n",
       "    }\n",
       "</style>\n",
       "<table border=\"1\" class=\"dataframe\">\n",
       "  <thead>\n",
       "    <tr style=\"text-align: right;\">\n",
       "      <th></th>\n",
       "      <th>Genero</th>\n",
       "      <th>Raça</th>\n",
       "      <th>Endereço</th>\n",
       "      <th>Formação</th>\n",
       "      <th>Estado</th>\n",
       "      <th>Departamento</th>\n",
       "      <th>Senioridade</th>\n",
       "    </tr>\n",
       "  </thead>\n",
       "  <tbody>\n",
       "    <tr>\n",
       "      <th>count</th>\n",
       "      <td>10000</td>\n",
       "      <td>10000</td>\n",
       "      <td>10000</td>\n",
       "      <td>9956</td>\n",
       "      <td>10000</td>\n",
       "      <td>10000</td>\n",
       "      <td>10000</td>\n",
       "    </tr>\n",
       "    <tr>\n",
       "      <th>unique</th>\n",
       "      <td>2</td>\n",
       "      <td>5</td>\n",
       "      <td>10000</td>\n",
       "      <td>5</td>\n",
       "      <td>27</td>\n",
       "      <td>9</td>\n",
       "      <td>7</td>\n",
       "    </tr>\n",
       "    <tr>\n",
       "      <th>top</th>\n",
       "      <td>Masc</td>\n",
       "      <td>pardo</td>\n",
       "      <td>9155 Harold Oval\\nSellersside, FL 21337</td>\n",
       "      <td>Ensino Superior</td>\n",
       "      <td>São Paulo</td>\n",
       "      <td>Administrativo</td>\n",
       "      <td>Analista Júnior</td>\n",
       "    </tr>\n",
       "    <tr>\n",
       "      <th>freq</th>\n",
       "      <td>7500</td>\n",
       "      <td>4700</td>\n",
       "      <td>1</td>\n",
       "      <td>5972</td>\n",
       "      <td>1000</td>\n",
       "      <td>1112</td>\n",
       "      <td>3000</td>\n",
       "    </tr>\n",
       "  </tbody>\n",
       "</table>\n",
       "</div>"
      ],
      "text/plain": [
       "       Genero   Raça                                 Endereço  \\\n",
       "count   10000  10000                                    10000   \n",
       "unique      2      5                                    10000   \n",
       "top      Masc  pardo  9155 Harold Oval\\nSellersside, FL 21337   \n",
       "freq     7500   4700                                        1   \n",
       "\n",
       "               Formação     Estado    Departamento      Senioridade  \n",
       "count              9956      10000           10000            10000  \n",
       "unique                5         27               9                7  \n",
       "top     Ensino Superior  São Paulo  Administrativo  Analista Júnior  \n",
       "freq               5972       1000            1112             3000  "
      ]
     },
     "execution_count": 18,
     "metadata": {},
     "output_type": "execute_result"
    }
   ],
   "source": [
    "non_numeric_columns = dataset.select_dtypes(exclude='number')\n",
    "non_numeric_columns.describe()"
   ]
  },
  {
   "cell_type": "code",
   "execution_count": 19,
   "metadata": {},
   "outputs": [
    {
     "name": "stdout",
     "output_type": "stream",
     "text": [
      "<class 'pandas.core.frame.DataFrame'>\n",
      "RangeIndex: 10000 entries, 0 to 9999\n",
      "Data columns (total 9 columns):\n",
      " #   Column         Non-Null Count  Dtype  \n",
      "---  ------         --------------  -----  \n",
      " 0   Genero         10000 non-null  object \n",
      " 1   Idade          9944 non-null   float64\n",
      " 2   Raça           10000 non-null  object \n",
      " 3   Endereço       10000 non-null  object \n",
      " 4   Formação       9956 non-null   object \n",
      " 5   Estado         10000 non-null  object \n",
      " 6   Tempo de casa  9800 non-null   float64\n",
      " 7   Departamento   10000 non-null  object \n",
      " 8   Senioridade    10000 non-null  object \n",
      "dtypes: float64(2), object(7)\n",
      "memory usage: 703.3+ KB\n"
     ]
    }
   ],
   "source": [
    "dataset.info()"
   ]
  },
  {
   "attachments": {},
   "cell_type": "markdown",
   "metadata": {},
   "source": [
    "Não é necessário alterar os tipos de dados"
   ]
  },
  {
   "attachments": {},
   "cell_type": "markdown",
   "metadata": {},
   "source": [
    "Limpando os dados"
   ]
  },
  {
   "cell_type": "code",
   "execution_count": 20,
   "metadata": {},
   "outputs": [],
   "source": [
    "#remover duplicatas\n",
    "dataset = dataset.drop_duplicates()"
   ]
  },
  {
   "cell_type": "code",
   "execution_count": null,
   "metadata": {},
   "outputs": [],
   "source": [
    "#Alterar valores irrelevantes\n",
    "dataset.replace(old_value, new_value, inplace=True)"
   ]
  },
  {
   "cell_type": "code",
   "execution_count": null,
   "metadata": {},
   "outputs": [],
   "source": [
    "#remover observações irrelevantes\n",
    "dataset = dataset.loc[dataset['Id.1'] == 'specific_value']"
   ]
  },
  {
   "cell_type": "code",
   "execution_count": 15,
   "metadata": {},
   "outputs": [],
   "source": [
    "#Remover colunas desnecessárias\n",
    "dataset = dataset.drop(columns=['id', 'id.1', 'Nome'])"
   ]
  },
  {
   "attachments": {},
   "cell_type": "markdown",
   "metadata": {},
   "source": [
    "Lidando com dados faltantes"
   ]
  },
  {
   "cell_type": "code",
   "execution_count": 24,
   "metadata": {},
   "outputs": [
    {
     "data": {
      "text/plain": [
       "Genero           0\n",
       "Idade            0\n",
       "Raça             0\n",
       "Endereço         0\n",
       "Formação         0\n",
       "Estado           0\n",
       "Tempo de casa    0\n",
       "Departamento     0\n",
       "Senioridade      0\n",
       "dtype: int64"
      ]
     },
     "execution_count": 24,
     "metadata": {},
     "output_type": "execute_result"
    }
   ],
   "source": [
    "#Visulalisar resultados\n",
    "dataset.isna().sum()"
   ]
  },
  {
   "cell_type": "code",
   "execution_count": 23,
   "metadata": {},
   "outputs": [],
   "source": [
    "#Deletar dados faltantes\n",
    "dataset = dataset.dropna()"
   ]
  },
  {
   "attachments": {},
   "cell_type": "markdown",
   "metadata": {},
   "source": [
    "Outliers"
   ]
  },
  {
   "cell_type": "code",
   "execution_count": null,
   "metadata": {},
   "outputs": [],
   "source": [
    "#Boxplot\n",
    "plt.figure(figsize=(10, 6))  # Adjust the figure size if needed\n",
    "dataset.boxplot()\n",
    "plt.title('Boxplot for each column')\n",
    "plt.xticks(rotation=45)  # Rotate x-axis labels for better readability\n",
    "plt.show()"
   ]
  },
  {
   "cell_type": "code",
   "execution_count": null,
   "metadata": {},
   "outputs": [],
   "source": [
    "#Gráfico de dispersão\n",
    "\n",
    "# Target column for scatter plots\n",
    "target_column = 'target_column_name'\n",
    "\n",
    "# Get numeric columns (excluding the target column)\n",
    "numeric_columns = dataset.select_dtypes(include=['number']).columns.tolist()\n",
    "numeric_columns.remove(target_column)\n",
    "\n",
    "# Create scatter plots for each numeric column against the target column\n",
    "for col in numeric_columns:\n",
    "    plt.figure(figsize=(8, 6))\n",
    "    plt.scatter(dataset[col], dataset[target_column])\n",
    "    plt.title(f'Scatter plot of {col} against {target_column}')\n",
    "    plt.xlabel(col)\n",
    "    plt.ylabel(target_column)\n",
    "    plt.grid(True)\n",
    "    plt.show()"
   ]
  },
  {
   "cell_type": "code",
   "execution_count": null,
   "metadata": {},
   "outputs": [],
   "source": [
    "#Histograma\n",
    "\n",
    "# Get numeric columns\n",
    "numeric_columns = dataset.select_dtypes(include=['number']).columns\n",
    "\n",
    "# Plot histograms for each numeric column\n",
    "for col in numeric_columns:\n",
    "    plt.figure(figsize=(8, 6))\n",
    "    plt.hist(dataset[col], bins=30)  # Adjust the number of bins as needed\n",
    "    plt.title(f'Histogram of {col}')\n",
    "    plt.xlabel(col)\n",
    "    plt.ylabel('Frequency')\n",
    "    plt.grid(True)\n",
    "    plt.show()"
   ]
  }
 ],
 "metadata": {
  "kernelspec": {
<<<<<<< HEAD
   "display_name": "Python 3",
=======
   "display_name": "Python 3 (ipykernel)",
>>>>>>> d21da0d (inicial)
   "language": "python",
   "name": "python3"
  },
  "language_info": {
   "codemirror_mode": {
    "name": "ipython",
    "version": 3
   },
   "file_extension": ".py",
   "mimetype": "text/x-python",
   "name": "python",
   "nbconvert_exporter": "python",
   "pygments_lexer": "ipython3",
<<<<<<< HEAD
   "version": "3.11.3"
  },
  "orig_nbformat": 4
 },
 "nbformat": 4,
 "nbformat_minor": 2
=======
   "version": "3.11.5"
  }
 },
 "nbformat": 4,
 "nbformat_minor": 4
>>>>>>> d21da0d (inicial)
}
